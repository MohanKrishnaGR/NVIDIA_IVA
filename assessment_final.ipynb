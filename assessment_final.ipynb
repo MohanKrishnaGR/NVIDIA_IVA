{
 "cells": [
  {
   "cell_type": "markdown",
   "id": "5101d226-325d-407a-82d7-5b221da9ce69",
   "metadata": {},
   "source": [
    "<a href=\"https://www.nvidia.com/dli\"><img src=\"images/DLI_Header.png\" alt=\"Header\" style=\"width: 400px;\"/></a>"
   ]
  },
  {
   "cell_type": "markdown",
   "id": "53007a3d-38ff-4cd1-859b-0ced1e8500cd",
   "metadata": {},
   "source": [
    "## Assessment: Building a Real-Time Video AI Application ##\n",
    "In this notebook, you will utilize what you've learned in this course to complete an assessment. The assessment has been divided into a couple of steps - each of which will generate a text file for grading purposes. You will be graded based on the following rubric. Note that this coding portion does not give partial credit - it shows up as either 0 or 60 points. Earning 50 points or more will award you the full 60 points, while earning less than 50 points will award you 0 points for the coding portion. \n",
    "<table border=\"1\" class=\"dataframe\" align='left'>  <thead>    <tr style=\"text-align: right;\">      <th>Step</th>      <th># of &lt;FIXME&gt;</th>      <th>Points</th>    </tr>  </thead>  <tbody>    <tr>      <td>0. The Problem</td>      <td>0</td>      <td>0</td>    </tr>    <tr>      <td>1. Understanding the Input Video</td>      <td>5</td>      <td>10</td>    </tr>    <tr>      <td>2. Brainstorm AI Inference and Download a Pre-Trained Model</td>      <td>2</td>      <td>10</td>    </tr>    <tr>      <td>3. Edit the Inference Configuration File</td>      <td>10</td>      <td>10</td>    </tr>    <tr>      <td>4. Build and Run DeepStream Pipeline</td>      <td>20</td>      <td>20</td>    </tr>    <tr>      <td>5. Analyze the Results</td>      <td>1</td>      <td>10</td>    </tr>    <tr>      <td>BONUS. Visualize Frames</td>      <td>0</td>      <td>0</td>    </tr>  </tbody></table>\n",
    "\n",
    "<p><img src='images/iva_framework.png' width=600></p>"
   ]
  },
  {
   "cell_type": "markdown",
   "id": "1ea28a7a-3536-4c75-8c84-5978f49db9a6",
   "metadata": {},
   "source": [
    "### Step 0: The Problem ###\n",
    "You are a developer for an automobile fleet management company. You have recently installed dashboard cameras on all of the vehicles and are ready to implement AI to analyze the fleet's driving behavior. One of the issues you've noticed with the fleet is [tailgating](https://en.wikipedia.org/wiki/Tailgating), which occurs when the vehicle drives behind another vehicle without leaving sufficient distance to stop without causing a collision if the vehicle in front stops suddenly. You've decied to build a DeepStream application that will help monitor this behavior. At this point, you want to be able to log occurences of tailgating so you can understand the frequency. Note that while the input video sources are static files, the pipeline can easily be modified to consume videos in real-time. "
   ]
  },
  {
   "cell_type": "markdown",
   "id": "14f1c9bd-488a-4b54-bbc0-80ab4ecd5c4e",
   "metadata": {},
   "source": [
    "**Instructions**: <br>\n",
    "0.1 Execute the cell to set the target video as an environment variable. <br>"
   ]
  },
  {
   "cell_type": "code",
   "execution_count": 1,
   "id": "b8f79d8c-9bc3-4f2b-929b-3baab61cbd5c",
   "metadata": {},
   "outputs": [],
   "source": [
    "# 0.1\n",
    "# DO NOT CHANGE THIS CELL\n",
    "import os\n",
    "os.environ['TARGET_VIDEO_PATH']='data/assessment_stream.h264'\n",
    "os.environ['TARGET_VIDEO_PATH_MP4']='data/assessment_stream.mp4'"
   ]
  },
  {
   "cell_type": "markdown",
   "id": "24d18bdd-6ee6-4241-aa2b-d057bd04309d",
   "metadata": {},
   "source": [
    "### Step 1: Understanding the Input Video ###\n",
    "The first step is to understand the properties of the input videos before we can design a system to digest them. "
   ]
  },
  {
   "cell_type": "markdown",
   "id": "42feee71-f5d3-4f15-a120-5aaf12724b70",
   "metadata": {},
   "source": [
    "Use the `ffprobe` ([see documentation if needed](https://ffmpeg.org/ffprobe.html)) command line utility to obtain the `height`, `width`, and `frame rate` of the input video. We're also using the `-hide_banner` option to minimize the text output. \n",
    "\n",
    "**Instructions**: <br>\n",
    "1.1 Execute the cell to preview the video. <br>\n",
    "1.2 Execute the cell to gather information from input video stream. <br>\n",
    "1.3 Modify the `<FIXME>`s _only_ to the correct values and execute the cell to mark your answer. _You can execute this cell multiple times until satisfactory_. <br>"
   ]
  },
  {
   "cell_type": "code",
   "execution_count": 12,
   "id": "f4976ef4-5a16-4106-8454-48c07cfad8d8",
   "metadata": {},
   "outputs": [
    {
     "data": {
      "text/html": [
       "<video src=\"data/assessment_stream.mp4\" controls  width=\"720\" >\n",
       "      Your browser does not support the <code>video</code> element.\n",
       "    </video>"
      ],
      "text/plain": [
       "<IPython.core.display.Video object>"
      ]
     },
     "execution_count": 12,
     "metadata": {},
     "output_type": "execute_result"
    }
   ],
   "source": [
    "# 1.1\n",
    "# DO NOT CHANGE THIS CELL\n",
    "from IPython.display import Video\n",
    "Video(os.environ['TARGET_VIDEO_PATH_MP4'], width=720)"
   ]
  },
  {
   "cell_type": "code",
   "execution_count": 13,
   "id": "83672ee2-3e0f-47b1-bac3-f22df24669e9",
   "metadata": {
    "tags": []
   },
   "outputs": [
    {
     "name": "stdout",
     "output_type": "stream",
     "text": [
      "Input #0, h264, from 'data/assessment_stream.h264':\n",
      "  Duration: N/A, bitrate: N/A\n",
      "    Stream #0:0: Video: h264 (High), yuv420p(progressive), 1280x720, 59.94 fps, 59.94 tbr, 1200k tbn, 119.88 tbc\n"
     ]
    }
   ],
   "source": [
    "# 1.2\n",
    "# DO NOT CHANGE THIS CELL\n",
    "!ffprobe -i $TARGET_VIDEO_PATH \\\n",
    "         -hide_banner \\\n",
    "         2>&1| tee my_assessment/video_profile.txt "
   ]
  },
  {
   "cell_type": "code",
   "execution_count": 14,
   "id": "368d5c7b-7798-4920-800f-608d3752d2ab",
   "metadata": {},
   "outputs": [],
   "source": [
    "# 1.3\n",
    "FRAME_RATE=59.94\n",
    "FRAME_HEIGHT=720\n",
    "FRAME_WIDTH=1280\n",
    "FRAME_CODEC='yuv'\n",
    "FRAME_COLOR_FORMAT='h264'\n",
    "\n",
    "# DO NOT CHANGE BELOW\n",
    "Answer=f\"\"\"\\\n",
    "FRAME RATE: {round(FRAME_RATE)} FPS \\\n",
    "HEIGHT: {FRAME_HEIGHT} \\\n",
    "WIDTH: {FRAME_WIDTH} \\\n",
    "FRAME_CODEC: {FRAME_CODEC} \\\n",
    "FRAME_COLOR_FORMAT: {FRAME_COLOR_FORMAT} \\\n",
    "\"\"\"\n",
    "\n",
    "!echo $Answer > my_assessment/answer_1.txt"
   ]
  },
  {
   "cell_type": "markdown",
   "id": "1998b0e1-2bb8-4922-af6a-710f2e47f9df",
   "metadata": {},
   "source": [
    "### Step 2: Brainstorm AI Inference and Download a Pre-Trained Model ###\n",
    "The next step is to brain storm the AI inference needed to achieve the objective. For this application, we need to detect cars in the frame and identify cases when the bounding box crosses below a threshold (illustrated below). \n",
    "\n",
    "<p><img src='images/tailgating_logic.png' width=720></p>\n",
    "\n",
    "Fortunately, there is a [DashCamNet](https://catalog.ngc.nvidia.com/orgs/nvidia/teams/tao/models/dashcamnet) purpose-built object detection model that has been trained on similar data as our video. We can use the [NGC CLI](https://ngc.nvidia.com/setup/installers/cli) to download the [DashCamNet](https://catalog.ngc.nvidia.com/orgs/nvidia/teams/tao/models/dashcamnet) model for our application"
   ]
  },
  {
   "cell_type": "markdown",
   "id": "56ba02d6-91d7-467a-8063-4b161beda2cf",
   "metadata": {},
   "source": [
    "**Instructions**: <br>\n",
    "2.1 Execute the cell to install the NGC CLI. <br>\n",
    "2.2 Execute the cell to use the `ngc registry mode list` command that lists all available models. We use the `--column name`, `--column repository`, and `--column application` options to display only the relevant columns. Afterwards, review the model card for [DashCamNet](https://catalog.ngc.nvidia.com/orgs/nvidia/teams/tao/models/dashcamnet) and confirm that the model is fit for purpose. <br>\n",
    "2.3 Update the `<FIXME>`s _only_ and execute the cell to download the [DashCamNet](https://catalog.ngc.nvidia.com/orgs/nvidia/teams/tao/models/dashcamnet) model. The output of the command will generate a text file for grading purposes. _You can execute this cell multiple times until satisfactory_. <br>"
   ]
  },
  {
   "cell_type": "code",
   "execution_count": 15,
   "id": "37f0c649-280e-4ad9-a45f-4125c36afa13",
   "metadata": {
    "scrolled": true,
    "tags": []
   },
   "outputs": [
    {
     "name": "stdout",
     "output_type": "stream",
     "text": [
      "env: CLI=ngccli_linux.zip\n",
      "--2025-02-15 08:42:36--  https://ngc.nvidia.com/downloads/ngccli_linux.zip\n",
      "Resolving ngc.nvidia.com (ngc.nvidia.com)... 18.165.83.111, 18.165.83.119, 18.165.83.59, ...\n",
      "Connecting to ngc.nvidia.com (ngc.nvidia.com)|18.165.83.111|:443... connected.\n",
      "HTTP request sent, awaiting response... 200 OK\n",
      "Length: 48777813 (47M) [application/zip]\n",
      "Saving to: ‘/dli/task/ngc_assets/ngccli/ngccli_linux.zip’\n",
      "\n",
      "ngccli_linux.zip    100%[===================>]  46.52M  --.-KB/s    in 0.1s    \n",
      "\n",
      "2025-02-15 08:42:36 (313 MB/s) - ‘/dli/task/ngc_assets/ngccli/ngccli_linux.zip’ saved [48777813/48777813]\n",
      "\n",
      "Archive:  /dli/task/ngc_assets/ngccli/ngccli_linux.zip\n"
     ]
    }
   ],
   "source": [
    "# 2.1\n",
    "# DO NOT CHANGE THIS CELL\n",
    "import os\n",
    "os.environ['NGC_DIR']='/dli/task/ngc_assets'\n",
    "\n",
    "%env CLI=ngccli_linux.zip\n",
    "!mkdir -p $NGC_DIR/ngccli\n",
    "!wget \"https://ngc.nvidia.com/downloads/$CLI\" -P $NGC_DIR/ngccli\n",
    "!unzip -u \"$NGC_DIR/ngccli/$CLI\" \\\n",
    "       -d $NGC_DIR/ngccli/\n",
    "!rm $NGC_DIR/ngccli/*.zip \n",
    "os.environ[\"PATH\"]=\"{}/ngccli/ngc-cli:{}\".format(os.getenv(\"NGC_DIR\", \"\"), os.getenv(\"PATH\", \"\"))"
   ]
  },
  {
   "cell_type": "code",
   "execution_count": 16,
   "id": "d7bf605e-fe17-48a8-b1b6-70f594a83b43",
   "metadata": {
    "scrolled": true,
    "tags": []
   },
   "outputs": [
    {
     "name": "stdout",
     "output_type": "stream",
     "text": [
      "+-------------------------+-------------------------+-------------------------+\n",
      "| Name                    | Repository              | Application             |\n",
      "+-------------------------+-------------------------+-------------------------+\n",
      "| CitySemSegFormer        | nvidia/tao/citysemsegfo | OTHER                   |\n",
      "|                         | rmer                    |                         |\n",
      "| VehicleMakeNet          | nvidia/tao/vehiclemaken | Classification          |\n",
      "|                         | et                      |                         |\n",
      "| Pre-trained GCViT       | nvidia/tao/pretrained_g | Image Classification    |\n",
      "| ImageNet Classification | cvit_classification_ima |                         |\n",
      "| weights                 | genet                   |                         |\n",
      "| Optical Inspection      | nvidia/tao/optical_insp | Optical Inspection      |\n",
      "|                         | ection                  |                         |\n",
      "| RIVA Punctuation        | nvidia/tao/punctuationc | NVIDIA Riva             |\n",
      "|                         | apitalization_it_it_ber |                         |\n",
      "|                         | t_base                  |                         |\n",
      "| RIVA Punctuation and    | nvidia/tao/punctuationc | Punctuation and         |\n",
      "| Capitalization for      | apitalization_es_us_ber | Capitalization          |\n",
      "| Spanish                 | t_base                  |                         |\n",
      "| Riva ASR French LM      | nvidia/tao/speechtotext | NVIDIA Riva             |\n",
      "|                         | _fr_fr_lm               |                         |\n",
      "| Riva Marblenet Voice    | nvidia/tao/voiceactivit | NVIDIA Riva             |\n",
      "| Activity Detection      | ydetection_marblenet    |                         |\n",
      "| RIVA Conformer ASR      | nvidia/tao/speechtotext | Speech to Text          |\n",
      "| Mandarin                | _zh_cn_conformer        |                         |\n",
      "| Mask2Former             | nvidia/tao/mask2former  | Instance segmentation   |\n",
      "| PeopleNet               | nvidia/tao/peoplenet    | Other                   |\n",
      "| RIVA Conformer ASR      | nvidia/tao/speechtotext | Speech To Text          |\n",
      "| Arabic                  | _ar_ar_conformer        |                         |\n",
      "| RIVA Conformer ASR      | nvidia/tao/speechtotext | Other                   |\n",
      "| English                 | _en_gb_conformer        |                         |\n",
      "| Multiple 3D CenterPose  | nvidia/tao/multiclass_3 | Object Pose Estimation  |\n",
      "|                         | d_centerpose            |                         |\n",
      "| Speech Synthesis HiFi-  | nvidia/tao/speechsynthe | Text to Speech          |\n",
      "| GAN                     | sis_hifigan             |                         |\n",
      "| RIVA Conformer ASR      | nvidia/tao/speechtotext | Speech to Text          |\n",
      "| Russian - ASR set 1.0   | _ru_ru_conformer        |                         |\n",
      "| Pre-trained FAN based   | nvidia/tao/pretrained_f | Image Classification    |\n",
      "| ImageNet Classification | an_classification_image |                         |\n",
      "| weights                 | net                     |                         |\n",
      "| BEVFusion for 3D Object | nvidia/tao/bevfusion    | Object Detection        |\n",
      "| Detection               |                         | (People)                |\n",
      "| Pre-trained SegFormer   | nvidia/tao/pretrained_s | Semantic Segmentation   |\n",
      "| NvImageNet weights      | egformer_nvimagenet     |                         |\n",
      "| RIVA Conformer ASR      | nvidia/tao/speechtotext | Speech to Text          |\n",
      "| Japanese                | _ja_jp_conformer        |                         |\n",
      "| RIVA Punctuation and    | nvidia/tao/punctuationc | NVIDIA Riva             |\n",
      "| Capitalization for      | apitalization_hi_in_ber |                         |\n",
      "| Hindi                   | t_base                  |                         |\n",
      "| Pre-trained FasterViT   | nvidia/tao/pretrained_f | Image Classification    |\n",
      "| based NVImageNet        | astervit_classification |                         |\n",
      "| Classification weights  | _nvimagenet             |                         |\n",
      "| Visual ChangeNet        | nvidia/tao/visual_chang | Industrial Inspection   |\n",
      "| Classification          | enet_classification     |                         |\n",
      "| BodyPose3DNet           | nvidia/tao/bodypose3dne | Pose Estimation         |\n",
      "|                         | t                       |                         |\n",
      "| Riva ASR German LM      | nvidia/tao/speechtotext | NVIDIA Riva EA          |\n",
      "|                         | _de_de_lm               |                         |\n",
      "| Speech to Text English  | nvidia/tao/speechtotext | Speech to Text          |\n",
      "| Citrinet                | _english_citrinet       |                         |\n",
      "| RIVA Citrinet 256 ASR   | nvidia/tao/speechtotext | Speech To Text          |\n",
      "| English                 | _en_us_citrinet256      |                         |\n",
      "| Riva ASR Hindi LM       | nvidia/tao/speechtotext | Speech To Text          |\n",
      "|                         | _hi_in_lm               |                         |\n",
      "| PeopleNet - AMR         | nvidia/tao/peoplenet_am | Object Detection        |\n",
      "|                         | r                       |                         |\n",
      "| Joint Intent and Slot   | nvidia/tao/intentslotcl | Joint Intent And Slot   |\n",
      "| Classification          | assification_misty_engl | Classification          |\n",
      "| DistilBert              | ish_distilbert          |                         |\n",
      "| RIVA Conformer ASR      | nvidia/tao/speechtotext | Speech to Text          |\n",
      "| Italian                 | _it_it_conformer        |                         |\n",
      "| Visual ChangeNet        | nvidia/tao/visual_chang | Industrial Inspection   |\n",
      "| Segmentation -          | enet_segmentation_levir |                         |\n",
      "| (Research-only)         | cd                      |                         |\n",
      "| RIVA Diarizer Neural    | nvidia/tao/diarizer_vad | Speaker Diarization     |\n",
      "| VAD                     | _multilingual_marblenet |                         |\n",
      "| Riva ASR German Inverse | nvidia/tao/inverse_norm | NVIDIA Riva             |\n",
      "| Normalization Grammar   | alization_de_de         |                         |\n",
      "| FoundationPose          | nvidia/tao/foundationpo | 6-DoF object pose       |\n",
      "|                         | se                      | estimation              |\n",
      "| Riva ASR English        | nvidia/tao/inverse_norm | NVIDIA Riva             |\n",
      "| Inverse Normalization   | alization_en_us         |                         |\n",
      "| Grammar                 |                         |                         |\n",
      "| RIVA EnglishUS Hifigan  | nvidia/tao/speechsynthe | NVIDIA Riva             |\n",
      "|                         | sis_en_us_hifigan       |                         |\n",
      "| RIVA Punctuation and    | nvidia/tao/punctuationc | NVIDIA Riva             |\n",
      "| Capitalization for      | apitalization_pt_br_ber |                         |\n",
      "| Brazilian Portuguese    | t_base                  |                         |\n",
      "| TAO Pretrained          | nvidia/tao/pretrained_c | CLASSIFICATION          |\n",
      "| Classification-TF2      | lassification_tf2       |                         |\n",
      "| TAO Pretrained Object   | nvidia/tao/pretrained_o | Other                   |\n",
      "| Detection               | bject_detection         |                         |\n",
      "| DINO                    | nvidia/tao/pretrained_d | Object Detection        |\n",
      "|                         | ino_coco                |                         |\n",
      "| Pre-trained DINO        | nvidia/tao/pretrained_d | Object Detection        |\n",
      "| NvImageNet weights      | ino_nvimagenet          |                         |\n",
      "| RIVA Conformer ASR      | nvidia/tao/speechtotext | Speech to Text          |\n",
      "| Brazilian Portuguese    | _pt_br_conformer        |                         |\n",
      "| RIVA Citrinet-1024 ASR  | nvidia/tao/speechtotext | Speech to Text          |\n",
      "| Spanish EMEA            | _es_es_citrinet         |                         |\n",
      "| RIVA Citrinet-1024 ASR  | nvidia/tao/speechtotext | Speech to Text          |\n",
      "| Brazilian Portuguese    | _pt_br_citrinet         |                         |\n",
      "| PeopleSemSegnet         | nvidia/tao/peoplesemseg | OTHER                   |\n",
      "|                         | net                     |                         |\n",
      "| Speech Synthesis        | nvidia/tao/speechsynthe | Text to Speech          |\n",
      "| Waveglow                | sis_waveglow            |                         |\n",
      "| VITA                    | nvidia/tao/vita         | Computer Vision         |\n",
      "| RIVA Punctuation for    | nvidia/tao/punctuationc | NVIDIA Riva             |\n",
      "| Arabic                  | apitalization_ar_ar_ber |                         |\n",
      "|                         | t_base                  |                         |\n",
      "| LITA                    | nvidia/tao/lita         | Computer Vision         |\n",
      "| Riva ASR English(en-GB) | nvidia/tao/speechtotext | NVIDIA Riva             |\n",
      "| LM                      | _en_gb_lm               |                         |\n",
      "| TAO Commercial          | nvidia/tao/nvclip_vit   | Other                   |\n",
      "| Pretrained NV-CLIP      |                         |                         |\n",
      "| Model                   |                         |                         |\n",
      "| PCB Defect              | nvidia/tao/pcb_classifi | Optical Inspection      |\n",
      "| Classification          | cation                  |                         |\n",
      "| RIVA Punctuation        | nvidia/tao/punctuationc | Punctuation and         |\n",
      "|                         | apitalization_en_us_ber | Capitalization          |\n",
      "|                         | t_base                  |                         |\n",
      "| Domain Classification   | nvidia/tao/domainclassi | Domain Classification   |\n",
      "| English Bert            | fication_english_bert   |                         |\n",
      "| PeopleSegNet            | nvidia/tao/peoplesegnet | Instance Segmentation   |\n",
      "| Pre-trained GCViT       | nvidia/tao/pretrained_g | Image Classification    |\n",
      "| NVImageNet              | cvit_classification_nvi |                         |\n",
      "| Classification weights  | magenet                 |                         |\n",
      "| VehicleTypeNet          | nvidia/tao/vehicletypen | Classification          |\n",
      "|                         | et                      |                         |\n",
      "| RIVA Citrinet-1024 ASR  | nvidia/tao/speechtotext | Speech to Text          |\n",
      "| Korean                  | _ko_kr_citrinet         |                         |\n",
      "| Transfusion for 3D      | nvidia/tao/transfusion  | Point Cloud - Object    |\n",
      "| Object Detection        |                         | Detection               |\n",
      "| Question Answering      | nvidia/tao/questionansw | Question Answering      |\n",
      "| SQUAD2.0 Bert - Large   | ering_squad_english_ber |                         |\n",
      "|                         | tlarge                  |                         |\n",
      "| LPDNet                  | nvidia/tao/lpdnet       | License Plate Detection |\n",
      "| FaceDetect              | nvidia/tao/facenet      | Object Detection        |\n",
      "| EmotionNet              | nvidia/tao/emotionnet   | Emotion Classification  |\n",
      "| Retail Object           | nvidia/tao/retail_objec | Recognition             |\n",
      "| Recognition             | t_recognition           |                         |\n",
      "| DashCamNet              | nvidia/tao/dashcamnet   | Object Detection        |\n",
      "| Named Entity            | nvidia/tao/namedentityr | Named Entity            |\n",
      "| Recognition Bert        | ecognition_english_bert | Recognition             |\n",
      "| Pre-trained DINO        | nvidia/tao/pretrained_d | Object Detection        |\n",
      "| ImageNet weights        | ino_imagenet            |                         |\n",
      "| ReIdentificationNet     | nvidia/tao/reidentifica | ReIdentification        |\n",
      "|                         | tionnet                 |                         |\n",
      "| Pre-trained Segformer - | nvidia/tao/pretrained_s | Semantic Segmentation   |\n",
      "| CityScapes              | egformer_cityscapes     |                         |\n",
      "| Punctuation and         | nvidia/tao/punctuationc | Punctuation and         |\n",
      "| Capitalization Bert     | apitalization_english_b | Capitalization          |\n",
      "|                         | ert                     |                         |\n",
      "| Pre-trained FAN based   | nvidia/tao/pretrained_f | Image Classification    |\n",
      "| NVImageNet              | an_classification_nvima |                         |\n",
      "| Classification weights  | genet                   |                         |\n",
      "| Visual ChangeNet        | nvidia/tao/visual_chang | Industrial Inspection   |\n",
      "| Segmentation - MvTEC    | enet_segmentation_mvtec |                         |\n",
      "| Pre-trained Deformable  | nvidia/tao/pretrained_d | Object Detection        |\n",
      "| DETR ImageNet weights   | eformable_detr_imagenet |                         |\n",
      "| Joint Intent and Slot   | nvidia/tao/intentslotcl | NLP                     |\n",
      "| Classification Misty    | assification_misty_engl |                         |\n",
      "| Bert                    | ish_bert                |                         |\n",
      "| RIVA Citrinet ASR       | nvidia/tao/speechtotext | Speech to Text          |\n",
      "| Mandarin                | _zh_cn_citrinet         |                         |\n",
      "| RIVA Punctuation and    | nvidia/tao/punctuationc | NVIDIA Riva             |\n",
      "| Capitalization for      | apitalization_fr_fr_ber |                         |\n",
      "| French                  | t_base                  |                         |\n",
      "| TAO Pretrained Instance | nvidia/tao/pretrained_i | Instance Segmentation   |\n",
      "| Segmentation            | nstance_segmentation    |                         |\n",
      "| Riva ASR Korean LM      | nvidia/tao/speechtotext | NVIDIA Riva             |\n",
      "|                         | _ko_kr_lm               |                         |\n",
      "| Riva ASR English(en-US) | nvidia/tao/speechtotext | Speech to Text          |\n",
      "| LM                      | _en_us_lm               |                         |\n",
      "| RIVA Conformer ASR      | nvidia/tao/speechtotext | NVIDIA Riva             |\n",
      "| Hindi - ASR set 2.0     | _hi_in_conformer        |                         |\n",
      "| RIVA Conformer ASR      | nvidia/tao/speechtotext | Speech to Text          |\n",
      "| Spanish EMEA            | _es_es_conformer        |                         |\n",
      "| RIVA Conformer ASR      | nvidia/tao/speechtotext | Speech to Text          |\n",
      "| Korean                  | _ko_kr_conformer        |                         |\n",
      "| RIVA Citrinet ASR       | nvidia/tao/speechtotext | Speech to Text          |\n",
      "| German                  | _de_de_citrinet         |                         |\n",
      "| Mask Auto Label         | nvidia/tao/mask_auto_la | Semantic Segmentation   |\n",
      "|                         | bel                     |                         |\n",
      "| RIVA Punctuation and    | nvidia/tao/punctuationc | Punctuation and         |\n",
      "| Capitalization for      | apitalization_de_de_ber | Capitalization          |\n",
      "| German                  | t_base                  |                         |\n",
      "| RIVA EnglishUS          | nvidia/tao/speechsynthe | NVIDIA Riva             |\n",
      "| Fastpitch               | sis_en_us_fastpitch_ipa |                         |\n",
      "| Pre-trained FasterViT   | nvidia/tao/pretrained_f | Image Classification    |\n",
      "| based ImageNet          | astervit_classification |                         |\n",
      "| Classification weights  | _imagenet               |                         |\n",
      "| Question Answering      | nvidia/tao/questionansw | Question Answering      |\n",
      "| SQUAD2.0 Megatron       | ering_squad_english_meg |                         |\n",
      "|                         | atron                   |                         |\n",
      "| RIVA Conformer ASR      | nvidia/tao/speechtotext | Speech to Text          |\n",
      "| German                  | _de_de_conformer        |                         |\n",
      "| Pre-trained Deformable  | nvidia/tao/pretrained_d | Object Detection        |\n",
      "| DETR NvImageNet weights | eformable_detr_nvimagen |                         |\n",
      "|                         | et                      |                         |\n",
      "| HeartRateNet            | nvidia/tao/heartratenet | HeartRateNet Estimation |\n",
      "| Optical Character       | nvidia/tao/ocdnet       | Optical Character       |\n",
      "| Detection               |                         | Detection               |\n",
      "| Mask Grounding DINO     | nvidia/tao/mask_groundi | Open vocabulary         |\n",
      "|                         | ng_dino                 | instance segmentation   |\n",
      "| Riva ASR Brazilian      | nvidia/tao/speechtotext | NVIDIA Riva             |\n",
      "| Portuguese LM           | _pt_br_lm               |                         |\n",
      "| Riva ASR Mandarin LM    | nvidia/tao/speechtotext | Speech To Text          |\n",
      "|                         | _zh_cn_lm               |                         |\n",
      "| TAO Pretrained Semantic | nvidia/tao/pretrained_s | Semantic Segmentation   |\n",
      "| Segmentation            | emantic_segmentation    |                         |\n",
      "| RIVA EnglishUS          | nvidia/tao/speechsynthe | NVIDIA Riva             |\n",
      "| Fastpitch               | sis_en_us_fastpitch     |                         |\n",
      "| Riva ASR Spanish        | nvidia/tao/inverse_norm | NVIDIA Riva             |\n",
      "| Inverse Normalization   | alization_es_us         |                         |\n",
      "| Grammar                 |                         |                         |\n",
      "| RIVA Punctuation and    | nvidia/tao/punctuationc | NVIDIA Riva             |\n",
      "| Capitalization for      | apitalization_ko_kr_ber |                         |\n",
      "| Korean                  | t_base                  |                         |\n",
      "| RIVA Diarizer Embedding | nvidia/tao/diarizer_tit | Speaker Diarization     |\n",
      "| Extractor               | anet_small              |                         |\n",
      "| Riva TTS English        | nvidia/tao/normalizatio | NVIDIA Riva             |\n",
      "| Normalization Grammar   | n_en_us                 |                         |\n",
      "| RIVA Conformer ASR      | nvidia/tao/speechtotext | Other                   |\n",
      "| Spanish                 | _es_us_conformer        |                         |\n",
      "| FaceDetectIR            | nvidia/tao/facedetectir | Object Detection        |\n",
      "| RIVA Conformer ASR      | nvidia/tao/speechtotext | Speech to Text          |\n",
      "| French                  | _fr_fr_conformer        |                         |\n",
      "| Visual ChangeNet-Seg    | nvidia/tao/visual_chang | Other                   |\n",
      "| with FM Backbone -      | enet_changesim          |                         |\n",
      "| ChangeSim               |                         |                         |\n",
      "| Riva TTS English US     | nvidia/tao/speechsynthe | NVIDIA Riva EA          |\n",
      "| Auxiliary Files         | sis_en_us_auxiliary_fil |                         |\n",
      "|                         | es                      |                         |\n",
      "| PeopleNet Transformer   | nvidia/tao/peoplenet_tr | Object Detection        |\n",
      "|                         | ansformer               |                         |\n",
      "| Grounding DINO          | nvidia/tao/grounding_di | Open vocabulary object  |\n",
      "|                         | no                      | detection & phrase      |\n",
      "|                         |                         | detection               |\n",
      "| Riva ASR Spanish LM     | nvidia/tao/speechtotext | NVIDIA Riva EA          |\n",
      "|                         | _es_us_lm               |                         |\n",
      "| TAO Toolkit ODISE 1.1   | nvidia/tao/odise        | Semantic Segmentation   |\n",
      "| Pose Classification     | nvidia/tao/poseclassifi | Pose Classification     |\n",
      "|                         | cationnet               |                         |\n",
      "| TAO Commercial          | nvidia/tao/nvdinov2_vit | Other                   |\n",
      "| Pretrained NV-Dinov2    | g                       |                         |\n",
      "| Model                   |                         |                         |\n",
      "| Pre-trained             | nvidia/tao/pretrained_e | Object Detection        |\n",
      "| EfficientDet Model      | fficientdet_tf2_coco    |                         |\n",
      "| trained on COCO         |                         |                         |\n",
      "| Gaze Estimation         | nvidia/tao/gazenet      | Gaze Detection          |\n",
      "| PeopleSemSegformer      | nvidia/tao/peoplesemseg | Semantic Segmentation   |\n",
      "|                         | former                  |                         |\n",
      "| GestureNet              | nvidia/tao/gesturenet   | Gesture Classification  |\n",
      "| Pre-trained SegFormer   | nvidia/tao/pretrained_s | Semantic Segmentation   |\n",
      "| ImageNet weights        | egformer_imagenet       |                         |\n",
      "| Riva ASR English LM     | nvidia/tao/speechtotext | Riva                    |\n",
      "|                         | _english_lm             |                         |\n",
      "| License Plate           | nvidia/tao/lprnet       | Character Recognition   |\n",
      "| Recognition             |                         |                         |\n",
      "| PeopleSemSegNet AMR     | nvidia/tao/peoplesemseg | Other                   |\n",
      "|                         | net_amr                 |                         |\n",
      "| RIVA Conformer ASR      | nvidia/tao/speechtotext | Speech to Text          |\n",
      "| English(en-US)          | _en_us_conformer        |                         |\n",
      "| TAO Pretrained DINO     | nvidia/tao/dino_with_fm | Object Detection        |\n",
      "| with Foundational Model | _backbone               |                         |\n",
      "| Backbone                |                         |                         |\n",
      "| TAO Pretrained          | nvidia/tao/pretrained_e | OBJECT_DETECTION        |\n",
      "| EfficientDet-TF2        | fficientdet_tf2         |                         |\n",
      "| Question Answering      | nvidia/tao/questionansw | Question Answering      |\n",
      "| SQUAD2.0 Bert           | ering_squad_english_ber |                         |\n",
      "|                         | t                       |                         |\n",
      "| Retail Object Detection | nvidia/tao/retail_objec | Retail Object Detection |\n",
      "|                         | t_detection             |                         |\n",
      "| Facial Landmarks        | nvidia/tao/fpenet       | Fiducial Landmarks      |\n",
      "| Estimation              |                         |                         |\n",
      "| TrafficCamNet           | nvidia/tao/trafficcamne | Object Detection        |\n",
      "|                         | t                       |                         |\n",
      "| CenterPose              | nvidia/tao/centerpose   | Pose Detection          |\n",
      "| Re-Identification       | nvidia/tao/reidentifica | Re-Identification       |\n",
      "| Transformer             | tionnet_transformer     |                         |\n",
      "| SegIC                   | nvidia/tao/segic        | In-context object       |\n",
      "|                         |                         | segmentation &          |\n",
      "|                         |                         | detection               |\n",
      "| Visual ChangeNet -      | nvidia/tao/visual_chang | Industrial Inspection   |\n",
      "| Segmentation            | enet_segmentation_lands |                         |\n",
      "|                         | atscd                   |                         |\n",
      "| Action Recognition Net  | nvidia/tao/actionrecogn | Action Recognition      |\n",
      "|                         | itionnet                |                         |\n",
      "| TAO Pretrained          | nvidia/tao/pretrained_d | Object Detection        |\n",
      "| DetectNet V2            | etectnet_v2             |                         |\n",
      "| Deformable DETR         | nvidia/tao/pretrained_d | Object Detection        |\n",
      "|                         | eformable_detr_coco     |                         |\n",
      "| Pre-trained             | nvidia/tao/pretrained_e | Object Detection        |\n",
      "| EfficientDet NvImageNet | fficientdet_tf2_nvimage |                         |\n",
      "| backbones               | net                     |                         |\n",
      "| Speech Synthesis        | nvidia/tao/speechsynthe | Text to Speech          |\n",
      "| English FastPitch       | sis_english_fastpitch   |                         |\n",
      "| TAO Pretrained          | nvidia/tao/pretrained_e | Object Detection        |\n",
      "| EfficientDet            | fficientdet             |                         |\n",
      "| TAO Pretrained          | nvidia/tao/pretrained_c | Classification          |\n",
      "| Classification          | lassification           |                         |\n",
      "| PeopleNet Transformer   | nvidia/tao/peoplenet_tr | Object Detection        |\n",
      "| v2.0                    | ansformer_v2            |                         |\n",
      "| RIVA Citrinet ASR       | nvidia/tao/speechtotext | Speech to Text          |\n",
      "| Russian                 | _ru_ru_citrinet         |                         |\n",
      "| Optical Character       | nvidia/tao/ocrnet       | Optical Character       |\n",
      "| Recognition             |                         | Recognition             |\n",
      "| Joint Intent and Slot   | nvidia/tao/intentslotcl | Joint Intent and Slot   |\n",
      "| Classification Bert     | assification_weather_en | classification          |\n",
      "|                         | glish_bert              |                         |\n",
      "| Pretrained Mask Auto    | nvidia/tao/pretrained_m | Semantic Segmentation   |\n",
      "| Label                   | ask_auto_label          |                         |\n",
      "| RIVA EnglishUS Hifigan  | nvidia/tao/speechsynthe | NVIDIA Riva             |\n",
      "|                         | sis_en_us_hifigan_ipa   |                         |\n",
      "| RIVA Punctuation        | nvidia/tao/punctuationc | NVIDIA Riva             |\n",
      "|                         | apitalization_ja_jp_ber |                         |\n",
      "|                         | t_base                  |                         |\n",
      "| PointPillarNet          | nvidia/tao/pointpillarn | Object Detection        |\n",
      "|                         | et                      |                         |\n",
      "| Riva ASR Russian LM     | nvidia/tao/speechtotext | NVIDIA Riva EA          |\n",
      "|                         | _ru_ru_lm               |                         |\n",
      "| CenterPose - ISAAC Ros  | nvidia/tao/centerpose_r | Pose Detection          |\n",
      "|                         | os                      |                         |\n",
      "| RIVA Citrinet ASR       | nvidia/tao/speechtotext | Speech to Text          |\n",
      "| Spanish                 | _es_us_citrinet         |                         |\n",
      "| RIVA Citrinet ASR Hindi | nvidia/tao/speechtotext | NVIDIA Riva             |\n",
      "| (hi-IN) - ASR set 1.0   | _hi_in_citrinet         |                         |\n",
      "| Riva ASR French Inverse | nvidia/tao/inverse_norm | NVIDIA Riva             |\n",
      "| Normalization Grammar   | alization_fr_fr         |                         |\n",
      "| BodyPoseNet             | nvidia/tao/bodyposenet  | OTHER                   |\n",
      "+-------------------------+-------------------------+-------------------------+\n"
     ]
    }
   ],
   "source": [
    "# 2.2\n",
    "# DO NOT CHANGE THIS CELL\n",
    "!ngc registry model list nvidia/tao/* --column name --column repository --column application"
   ]
  },
  {
   "cell_type": "code",
   "execution_count": 17,
   "id": "8e46b6d8-bc0a-4db6-b0b7-285b8d0a2b78",
   "metadata": {},
   "outputs": [
    {
     "name": "stdout",
     "output_type": "stream",
     "text": [
      "Getting files to download...\n",
      "\u001b[2K\u001b[32m⠙\u001b[0m \u001b[36m━━\u001b[0m • \u001b[32m0…\u001b[0m • \u001b[36mRemaining:\u001b[0m \u001b[36m…\u001b[0m • \u001b[31m?\u001b[0m • \u001b[33mElapsed:\u001b[0m \u001b[33m0…\u001b[0m • \u001b[34mTotal: 3 - Completed: 0 - Failed: 0\u001b[0m\n",
      "\u001b[2K\u001b[1A\u001b[2K\u001b[32m⠹\u001b[0m \u001b[36m━━\u001b[0m • \u001b[32m0…\u001b[0m • \u001b[36mRemaining:\u001b[0m \u001b[36m…\u001b[0m • \u001b[31m?\u001b[0m • \u001b[33mElapsed:\u001b[0m \u001b[33m0…\u001b[0m • \u001b[34mTotal: 3 - Completed: 0 - Failed: 0\u001b[0m\n",
      "\u001b[2K\u001b[1A\u001b[2K\u001b[32m⠼\u001b[0m \u001b[36m━━\u001b[0m • \u001b[32m0…\u001b[0m • \u001b[36mRemaining:\u001b[0m \u001b[36m…\u001b[0m • \u001b[31m?\u001b[0m • \u001b[33mElapsed:\u001b[0m \u001b[33m0…\u001b[0m • \u001b[34mTotal: 3 - Completed: 0 - Failed: 0\u001b[0m\n",
      "\u001b[2K\u001b[1A\u001b[2K\u001b[32m⠴\u001b[0m \u001b[36m━━\u001b[0m • \u001b[32m0…\u001b[0m • \u001b[36mRemaining:\u001b[0m \u001b[36m…\u001b[0m • \u001b[31m?\u001b[0m • \u001b[33mElapsed:\u001b[0m \u001b[33m0…\u001b[0m • \u001b[34mTotal: 3 - Completed: 0 - Failed: 0\u001b[0m\n",
      "\u001b[2K\u001b[1A\u001b[2K\u001b[32m⠦\u001b[0m \u001b[36m━━\u001b[0m • \u001b[32m0…\u001b[0m • \u001b[36mRemaining:\u001b[0m \u001b[36m…\u001b[0m • \u001b[31m?\u001b[0m • \u001b[33mElapsed:\u001b[0m \u001b[33m0…\u001b[0m • \u001b[34mTotal: 3 - Completed: 0 - Failed: 0\u001b[0m\n",
      "\u001b[2K\u001b[1A\u001b[2K\u001b[32m⠇\u001b[0m \u001b[36m━━\u001b[0m • \u001b[32m0…\u001b[0m • \u001b[36mRemaining:\u001b[0m \u001b[36m…\u001b[0m • \u001b[31m?\u001b[0m • \u001b[33mElapsed:\u001b[0m \u001b[33m0…\u001b[0m • \u001b[34mTotal: 3 - Completed: 0 - Failed: 0\u001b[0m\n",
      "\u001b[2K\u001b[1A\u001b[2K  \u001b[90m━━\u001b[0m • \u001b[32m…\u001b[0m • \u001b[36mRemaining:\u001b[0m \u001b[36m0…\u001b[0m • \u001b[31m…\u001b[0m • \u001b[33mElapsed:\u001b[0m \u001b[33m0…\u001b[0m • \u001b[34mTotal: 3 - Completed: 3 - Failed: 0\u001b[0m\n",
      "       \u001b[32m…\u001b[0m                   \u001b[31m…\u001b[0m                                                    \n",
      "\u001b[?25h\n",
      "----------------------------------------------------------------------------\n",
      "   Download status: COMPLETED\n",
      "   Downloaded local path model: /dli/task/ngc_assets/dashcamnet_vpruned_v1.0\n",
      "   Total files downloaded: 3\n",
      "   Total transferred: 6.65 MB\n",
      "   Started at: 2025-02-15 08:42:44\n",
      "   Completed at: 2025-02-15 08:42:45\n",
      "   Duration taken: 0s\n",
      "----------------------------------------------------------------------------\n"
     ]
    }
   ],
   "source": [
    "# 2.3\n",
    "!ngc registry model download-version nvidia/tao/dashcamnet:pruned_v1.0 --dest $NGC_DIR \\\n",
    "2>&1| tee my_assessment/answer_2.txt"
   ]
  },
  {
   "cell_type": "markdown",
   "id": "67c7764a-2126-44a3-b4d7-b18885d923d4",
   "metadata": {},
   "source": [
    "### Step 3: Edit the Inference Configuration File ###\n",
    "The next step is to modify the Gst-nvinfer configuration file that will be used to configure the AI inference plugin. You can create a new text file for this purpose manually and start from scratch or use the [template provided](spec_files/pgie_config_dashcamnet.txt). You can also refer to sample applications and configuration files [here](https://github.com/NVIDIA-AI-IOT/deepstream_python_apps). When creating the configuration file, below are the fields to pay attention to: \n",
    "\n",
    "Following properties are used when using TAO Toolkit models downloaded from NGC: \n",
    "* `tlt-encoded-model` - Pathname of the TAO Toolkit encoded model\n",
    "* `tlt-model-key` - Model load key for the TAO Toolkit encoded model\n",
    "* `labelfile-path` - Pathname of a text file containing the labels for the model\n",
    "* `int8-calib-file` - Pathname of the INT8 calibration file for dynamic range adjustment with an FP32 model (only in INT8)\n",
    "* `uff-input-blob-name` - Name of the input blob in the UFF file\n",
    "* `output-blob-names` - Array of output layer names\n",
    "* `input-dims` - Dimensions of the model as [channel; height; width; input-order] if input-order=0 i.e. NCHW\n",
    "* `net-scale-factor` - Pixel normalization factor _(default=1)_\n",
    "\n",
    "Recommended properties: \n",
    "* `batch-size` - Number of frames to be inferred together in a batch _(default=1)_\n",
    "\n",
    "Mandatory properties for detectors: \n",
    "* `num-detected-classes` - Number of classes detected by the network\n",
    "\n",
    "Optional properties for detectors: \n",
    "* `cluster-mode` - Clustering algorithm to use _(default=0 i.e. Group Rectangles)_\n",
    "* `interval` - Number of consecutive batches to be skipped for inference _(primary mode only | default=0)_\n",
    "\n",
    "Other optional properties: \n",
    "* `network-mode` - Data format to be used for inference _(0=FP32, 1=INT8, 2=FP16 mode | default=0 i.e. FP32)_\n",
    "* `process-mode` - Mode _(primary or secondary)_ in which the plugin is to operate on _(default=1 i.e. primary)_\n",
    "* `model-color-format` - Color format required by the model _(default=0 i.e. RGB)_\n",
    "* `gie-unique-id` - Unique ID to be assigned to the GIE to enable the application and other elements to identify detected bounding boxes and labels _(default=0)_\n",
    "* `model-engine-file` - Pathname of the serialized model engine file\n",
    "* `gpu-id` - Device ID of GPU to use for pre-processing/inference _(dGPU only)_\n",
    "\n",
    "**Note**: The values in the config file are overridden by values set through GObject properties. Another important thing to remember is that the properties recommended are specific to a primary detector, you will need to work on other properties for secondary and/or classifier. You can find most of the information needed on the [model card](https://catalog.ngc.nvidia.com/orgs/nvidia/teams/tao/models/dashcamnet): \n",
    "\n",
    "<p><img src='images/model_card.png' width=720></p>"
   ]
  },
  {
   "cell_type": "markdown",
   "id": "72dbcf79-4e80-4312-b462-d4aac1ff87e2",
   "metadata": {},
   "source": [
    "**Instructions**: \n",
    "<br>\n",
    "3.1. Open and review the [configuration file](spec_files/pgie_config_dashcamnet.txt). <br>\n",
    "3.2. Update the `<FIXME>`s _only_ in the configuration file with the correct values and **save changes**. Afterwards, make sure in the cell the correct path of the configuration file is referenced and execute the cell to mark your answer. _You can execute this cell multiple times until satisfactory_. <br>"
   ]
  },
  {
   "cell_type": "code",
   "execution_count": 18,
   "id": "df8e1e1e-0e46-49a3-9c34-e3f1bccee885",
   "metadata": {},
   "outputs": [
    {
     "name": "stdout",
     "output_type": "stream",
     "text": [
      "[property]\n",
      "gpu-id=0\n",
      "net-scale-factor=0.0039215697906911373\n",
      "tlt-model-key=tlt_encode\n",
      "tlt-encoded-model=/dli/task/ngc_assets/dashcamnet_vpruned_v1.0/resnet18_dashcamnet_pruned.etlt\n",
      "labelfile-path=/dli/task/ngc_assets/dashcamnet_vpruned_v1.0/labels.txt\n",
      "int8-calib-file=/dli/task/ngc_assets/dashcamnet_vpruned_v1.0/dashcamnet_int8.txt\n",
      "input-dims=3;720;1280;0\n",
      "uff-input-blob-name=input_1\n",
      "batch-size=1\n",
      "process-mode=1\n",
      "model-color-format=0\n",
      "# 0=FP32, 1=INT8, 2=FP16 mode\n",
      "network-mode=0\n",
      "num-detected-classes=4\n",
      "interval=0\n",
      "gie-unique-id=1\n",
      "output-blob-names=output_bbox/BiasAdd;output_cov/Sigmoid\n",
      "cluster-mode=0\n",
      "'/dli/task/spec_files/pgie_config_dashcamnet.txt' -> 'my_assessment/answer_3.txt'\n"
     ]
    }
   ],
   "source": [
    "# 3.2\n",
    "os.environ['SPEC_FILE']='/dli/task/spec_files/pgie_config_dashcamnet.txt'\n",
    "\n",
    "# DO NOT CHANGE BELOW\n",
    "!cat $SPEC_FILE\n",
    "!cp -v $SPEC_FILE my_assessment/answer_3.txt"
   ]
  },
  {
   "cell_type": "markdown",
   "id": "2a547a77-8d64-4f83-b26d-91c9ee91edf3",
   "metadata": {
    "tags": []
   },
   "source": [
    "### Step 4: Build and Run DeepStream Pipeline ###\n",
    "Next, it's time to build the pipeline. We're putting the pipeline creation and initiation procedure inside a function so it an be called easily. We also need to implement the probe callback function prior to running the pipeline. We've provided you a functional architecture and framework for this application to follow. Below is the architecture for this pipeline. \n",
    "\n",
    "<p><img src='images/assessment_pipeline.png' width=1080></p>\n",
    "\n",
    "Our logic for determining if a vehicle is tailgating will be based on the coordinates of detected objects' bounding boxes shown below: \n",
    "\n",
    "<p><img src='images/tailgate_metrics.png' width=720></p>\n",
    "\n",
    "While we attached the probe to the _nvdsosd_ plugin, the only requirement is that it has to be after the _nvinfer_ plugin so it contains the AI-infered metadata. Recall that we need to program the probe [callback function](https://en.wikipedia.org/wiki/Callback_(computer_programming)) to provide us a signal when tailgating is potentially occuring. The probe callback function generally follows a boilerplate, to help iterate through the batches, frames, and objects. For more information on how to implement a callback function, please refer to the [GStreamer Probe documentation](https://gstreamer.freedesktop.org/documentation/additional/design/probes.html). \n",
    "\n",
    "<p><img src='images/probe_boiler_plate.png' width=720></p>\n",
    "\n",
    "We want to generate a list that will contain 0s and 1s for each frame to represent if it exhibits tailgating. Therefore there should be as many numbers as there are number of frames in the end. There should _not_ be one number associated with each object detected as it will lead to more than one number associated with each frame. Below is a sample output: \n",
    "\n",
    "<p><img src='images/sample_log.png' width=720></p>"
   ]
  },
  {
   "cell_type": "markdown",
   "id": "a860bbe9-b937-47af-a305-95c00d36f580",
   "metadata": {},
   "source": [
    "**Instructions**: \n",
    "<br>\n",
    "4.1. Review the pipeline architecture. <br>\n",
    "4.2. Modify the `<FIXME>` _only_ in the cell with the correct code and execute the cell to define the function that will build and run the pipeline. <br>\n",
    "4.3. Modify the `<FIXME>` _only_ in the cell with the correct code and execute the cell to define the probe callback function. <br>\n",
    "4.4. Execute the cell to run the pipeline. <br>"
   ]
  },
  {
   "cell_type": "code",
   "execution_count": null,
   "id": "da9d8b9c-b28b-4d8f-b226-70ca5b76e6ad",
   "metadata": {},
   "outputs": [],
   "source": [
    "# 4.2\n",
    "#Import necessary libraries\n",
    "import sys\n",
    "import gi\n",
    "gi.require_version('Gst', '1.0')\n",
    "from gi.repository import GObject, Gst, GLib\n",
    "from common.bus_call import bus_call\n",
    "import pyds\n",
    "\n",
    "def run(input_file_path):\n",
    "    global inference_output\n",
    "    inference_output=[]\n",
    "    Gst.init(None)\n",
    "\n",
    "    # Create element that will form a pipeline\n",
    "    print(\"Creating Pipeline\")\n",
    "    pipeline=Gst.Pipeline()\n",
    "    \n",
    "    source=Gst.ElementFactory.make(\"filesrc\", \"file-source\")\n",
    "    source.set_property('location', \"data/assessment_stream.h264\")\n",
    "    h264parser=Gst.ElementFactory.make(\"h264parse\", \"h264-parser\")\n",
    "    decoder=Gst.ElementFactory.make(\"nvv4l2decoder\", \"nvv4l2-decoder\")\n",
    "    \n",
    "    streammux=Gst.ElementFactory.make(\"nvstreammux\", \"Stream-muxer\")    \n",
    "    streammux.set_property('width', 1280)\n",
    "    streammux.set_property('height', 720)\n",
    "    streammux.set_property('batch-size', 1)\n",
    "    \n",
    "    pgie=Gst.ElementFactory.make(\"nvinfer\", \"primary-inference\")\n",
    "    pgie.set_property('config-file-path', os.environ['SPEC_FILE'])\n",
    "    \n",
    "    nvvidconv1=Gst.ElementFactory.make(\"nvvideoconvert\", \"convertor\")\n",
    "    nvosd=Gst.ElementFactory.make(\"nvdsosd\", \"onscreendisplay\")\n",
    "    nvvidconv2=Gst.ElementFactory.make(\"nvvideoconvert\", \"convertor2\")\n",
    "    capsfilter=Gst.ElementFactory.make(\"capsfilter\", \"capsfilter\")\n",
    "    caps=Gst.Caps.from_string(\"video/x-raw, format=I420\")\n",
    "    capsfilter.set_property(\"caps\", caps)\n",
    "    \n",
    "    encoder=Gst.ElementFactory.make(\"avenc_mpeg4\", \"encoder\")\n",
    "    encoder.set_property(\"bitrate\", 2000000)\n",
    "    \n",
    "    sink=Gst.ElementFactory.make('filesink', 'filesink')\n",
    "    sink.set_property('location', 'output.mpeg4')\n",
    "    sink.set_property(\"sync\", 1)\n",
    "    \n",
    "    # Add the elements to the pipeline\n",
    "    print(\"Adding elements to Pipeline\")\n",
    "    pipeline.add(source)\n",
    "    pipeline.add(h264parser)\n",
    "    pipeline.add(decoder)\n",
    "    pipeline.add(streammux)\n",
    "    pipeline.add(pgie)\n",
    "    pipeline.add(nvvidconv1)\n",
    "    pipeline.add(nvosd)\n",
    "    pipeline.add(nvvidconv2)\n",
    "    pipeline.add(capsfilter)\n",
    "    pipeline.add(encoder)\n",
    "    pipeline.add(sink)\n",
    "\n",
    "    # Link the elements together\n",
    "    print(\"Linking elements in the Pipeline\")\n",
    "    source.link(h264parser)\n",
    "    h264parser.link(decoder)\n",
    "    decoder.get_static_pad('src').link(streammux.get_request_pad(\"sink_0\"))\n",
    "    streammux.link(pgie)\n",
    "    pgie.link(nvvidconv1)\n",
    "    nvvidconv1.link(nvosd)\n",
    "    nvosd.link(nvvidconv2)\n",
    "    nvvidconv2.link(capsfilter)\n",
    "    capsfilter.link(encoder)\n",
    "    encoder.link(sink)\n",
    "    \n",
    "    # Attach probe to OSD sink pad\n",
    "    osdsinkpad=nvosd.get_static_pad(\"sink\")\n",
    "    osdsinkpad.add_probe(Gst.PadProbeType.BUFFER, osd_sink_pad_buffer_probe, 0)\n",
    "\n",
    "    # Create an event loop and feed gstreamer bus mesages to it\n",
    "    loop=GLib.MainLoop()\n",
    "    bus=pipeline.get_bus()\n",
    "    bus.add_signal_watch()\n",
    "    bus.connect(\"message\", bus_call, loop)\n",
    "    \n",
    "    # Start play back and listen to events\n",
    "    print(\"Starting pipeline\")\n",
    "    \n",
    "    pipeline.set_state(Gst.State.PLAYING)\n",
    "    try:\n",
    "        loop.run()\n",
    "    except:\n",
    "        pass\n",
    "    \n",
    "    pipeline.set_state(Gst.State.NULL)\n",
    "    return inference_output"
   ]
  },
  {
   "cell_type": "code",
   "execution_count": 26,
   "id": "f3d3a5e2-aa96-463a-b9e5-bdf69b48bc38",
   "metadata": {},
   "outputs": [],
   "source": [
    "# 4.3\n",
    "# Define the Probe Function\n",
    "def osd_sink_pad_buffer_probe(pad, info, u_data):\n",
    "    gst_buffer=info.get_buffer()\n",
    "\n",
    "    # Retrieve batch metadata from the gst_buffer\n",
    "    batch_meta=pyds.gst_buffer_get_nvds_batch_meta(hash(gst_buffer))\n",
    "    l_frame=batch_meta.frame_meta_list\n",
    "    while l_frame is not None:\n",
    "        \n",
    "        # Initially set the tailgate indicator to False for each frame\n",
    "        tailgate=False\n",
    "        try:\n",
    "            frame_meta=pyds.NvDsFrameMeta.cast(l_frame.data)\n",
    "        except StopIteration:\n",
    "            break\n",
    "        frame_number=frame_meta.frame_num\n",
    "        l_obj=frame_meta.obj_meta_list\n",
    "        \n",
    "        # Iterate through each object to check its dimension\n",
    "        while l_obj is not None:\n",
    "            try:\n",
    "                obj_meta=pyds.NvDsObjectMeta.cast(l_obj.data)\n",
    "                \n",
    "                # If the object meet the criteria then set tailgate indicator to True\n",
    "                obj_bottom=obj_meta.rect_params.top+obj_meta.rect_params.height\n",
    "                obj_width=obj_meta.rect_params.width\n",
    "                if (obj_width > FRAME_WIDTH*.3) & (obj_bottom > FRAME_HEIGHT*.9): \n",
    "                    tailgate=True\n",
    "                    \n",
    "            except StopIteration:\n",
    "                break\n",
    "            try: \n",
    "                l_obj=l_obj.next\n",
    "            except StopIteration:\n",
    "                break\n",
    "        \n",
    "        print(f'Analyzing frame {frame_number}', end='\\r')\n",
    "        inference_output.append(str(int(tailgate)))\n",
    "        try:\n",
    "            l_frame=l_frame.next\n",
    "        except StopIteration:\n",
    "            break\n",
    "    return Gst.PadProbeReturn.OK"
   ]
  },
  {
   "cell_type": "code",
   "execution_count": 27,
   "id": "1fef2c16-93b6-4c59-abdc-cd4409cba488",
   "metadata": {
    "scrolled": true,
    "tags": []
   },
   "outputs": [
    {
     "name": "stdout",
     "output_type": "stream",
     "text": [
      "Creating Pipeline\n",
      "Adding elements to Pipeline\n",
      "Linking elements in the Pipeline\n",
      "Starting pipeline\n"
     ]
    },
    {
     "name": "stderr",
     "output_type": "stream",
     "text": [
      "Warning: gst-library-error-quark: Rounding muxer output width to the next multiple of 8: 1288 (5): gstnvstreammux.c(2795): gst_nvstreammux_change_state (): /GstPipeline:pipeline3/GstNvStreamMux:Stream-muxer\n"
     ]
    },
    {
     "name": "stdout",
     "output_type": "stream",
     "text": [
      "End-of-streamme 2405"
     ]
    }
   ],
   "source": [
    "# 4.4\n",
    "tailgate_log=run(input_file_path='/dli/task/data/assessment_stream.h264')\n",
    "\n",
    "# DO NOT CHANGE BELOW\n",
    "with open('/dli/task/my_assessment/answer_4.txt', 'w') as f: \n",
    "    f.write('\\n'.join(tailgate_log))"
   ]
  },
  {
   "cell_type": "markdown",
   "id": "92642fe5-6bbe-45eb-9ed7-5d4cce4a8a59",
   "metadata": {},
   "source": [
    "## Step 5: Analyze the Results ##\n",
    "Finally, we can analyze the driving behavior using the log we've collected. "
   ]
  },
  {
   "cell_type": "markdown",
   "id": "11858951-c2bb-4ca1-a921-55f9287fbbd0",
   "metadata": {},
   "source": [
    "**Instructions**: <br>\n",
    "5.1. Execute the cell to import the tailgate log into a Pandas DataFrame. <br>\n",
    "5.2. Execute the cell to plot the occurences of tailgating. <br>\n",
    "5.3. Make sure the output `.mp4` file is being referenced and execute the cell to view the composite with the bounding boxes drawn into the original video. <br>\n",
    "5.4. Execute the cell to calculate the amount of time on average this vehicle spent tailgating. <br>\n",
    "5.5. Modify the `<FIXME>` _only_ to mark your answer. <br>"
   ]
  },
  {
   "cell_type": "code",
   "execution_count": 28,
   "id": "80436323-269b-4010-8482-167861e93d16",
   "metadata": {},
   "outputs": [
    {
     "data": {
      "text/html": [
       "<div>\n",
       "<style scoped>\n",
       "    .dataframe tbody tr th:only-of-type {\n",
       "        vertical-align: middle;\n",
       "    }\n",
       "\n",
       "    .dataframe tbody tr th {\n",
       "        vertical-align: top;\n",
       "    }\n",
       "\n",
       "    .dataframe thead th {\n",
       "        text-align: right;\n",
       "    }\n",
       "</style>\n",
       "<table border=\"1\" class=\"dataframe\">\n",
       "  <thead>\n",
       "    <tr style=\"text-align: right;\">\n",
       "      <th></th>\n",
       "      <th>inference</th>\n",
       "    </tr>\n",
       "  </thead>\n",
       "  <tbody>\n",
       "    <tr>\n",
       "      <th>0</th>\n",
       "      <td>0</td>\n",
       "    </tr>\n",
       "    <tr>\n",
       "      <th>1</th>\n",
       "      <td>0</td>\n",
       "    </tr>\n",
       "    <tr>\n",
       "      <th>2</th>\n",
       "      <td>0</td>\n",
       "    </tr>\n",
       "    <tr>\n",
       "      <th>3</th>\n",
       "      <td>0</td>\n",
       "    </tr>\n",
       "    <tr>\n",
       "      <th>4</th>\n",
       "      <td>0</td>\n",
       "    </tr>\n",
       "  </tbody>\n",
       "</table>\n",
       "</div>"
      ],
      "text/plain": [
       "   inference\n",
       "0          0\n",
       "1          0\n",
       "2          0\n",
       "3          0\n",
       "4          0"
      ]
     },
     "execution_count": 28,
     "metadata": {},
     "output_type": "execute_result"
    }
   ],
   "source": [
    "# 5.1\n",
    "# DO NOT CHANGE THIS CELL\n",
    "import pandas as pd\n",
    "\n",
    "df=pd.read_csv('my_assessment/answer_4.txt', names=['inference'])\n",
    "df.head()"
   ]
  },
  {
   "cell_type": "code",
   "execution_count": 29,
   "id": "1da127db-2687-41c2-a026-8988a4bbe8ba",
   "metadata": {},
   "outputs": [
    {
     "data": {
      "image/png": "[encoded data removed]",
      "text/plain": [
       "<Figure size 2160x360 with 1 Axes>"
      ]
     },
     "metadata": {
      "needs_background": "light"
     },
     "output_type": "display_data"
    }
   ],
   "source": [
    "# 5.2\n",
    "# DO NOT CHANGE THIS CELL\n",
    "import matplotlib.pyplot as plt\n",
    "import numpy as np\n",
    "\n",
    "df.plot(kind='bar', figsize=(30, 5))\n",
    "plt.xticks(np.arange(0, len(df)+1, FRAME_RATE), np.arange(0, len(df)/FRAME_RATE))\n",
    "plt.show()"
   ]
  },
  {
   "cell_type": "code",
   "execution_count": 30,
   "id": "523d15a0-9374-419a-869b-b353fc35de36",
   "metadata": {},
   "outputs": [
    {
     "data": {
      "text/html": [
       "<video src=\"output_converted.mp4\" controls  width=\"720\" >\n",
       "      Your browser does not support the <code>video</code> element.\n",
       "    </video>"
      ],
      "text/plain": [
       "<IPython.core.display.Video object>"
      ]
     },
     "execution_count": 30,
     "metadata": {},
     "output_type": "execute_result"
    }
   ],
   "source": [
    "# 5.3\n",
    "# DO NOT CHANGE THIS CELL\n",
    "!ffmpeg -i output.mpeg4 output_converted.mp4 \\\n",
    "        -y \\\n",
    "        -loglevel quiet\n",
    "\n",
    "Video('output_converted.mp4', width=720)"
   ]
  },
  {
   "cell_type": "code",
   "execution_count": 31,
   "id": "4ae0b43f-23e1-4ab9-8fb7-0fec6ac7caaa",
   "metadata": {},
   "outputs": [
    {
     "data": {
      "text/plain": [
       "0    0.894431\n",
       "1    0.105569\n",
       "Name: inference, dtype: float64"
      ]
     },
     "metadata": {},
     "output_type": "display_data"
    }
   ],
   "source": [
    "# 5.4\n",
    "# DO NOT CHANGE THIS CELL\n",
    "display(df['inference'].value_counts(normalize=True))"
   ]
  },
  {
   "cell_type": "code",
   "execution_count": 35,
   "id": "983d0dc4-9f3c-4396-b4c0-5e52ba303f43",
   "metadata": {},
   "outputs": [],
   "source": [
    "# Question: How much time (without the percentage sign, e.g. 5.0) did the vehicle tailgate? \n",
    "Answer='1.0'\n",
    "\n",
    "# EXAMPLE: \n",
    "# Answer='5.0'\n",
    "\n",
    "# DO NOT CHANGE BELOW\n",
    "!echo $Answer > my_assessment/answer_5.txt"
   ]
  },
  {
   "cell_type": "markdown",
   "id": "348c075a-6f39-4483-9035-af9ac9f65a5c",
   "metadata": {},
   "source": [
    "## Grade Your Code ##\n",
    "If you have completed all 5 questions and confirmed the pipeline runs correctly, save changes to the notebook and revisit the webpage where you launched this interactive environment. Click on the \"**ASSESS TASK**\" button as shown in the screenshot below. Doing so will give you credit for this part of the lab that counts towards earning a certificate of competency for the entire course. \n",
    "\n",
    "<p><img src='images/credit.png' width=1080></p>"
   ]
  },
  {
   "cell_type": "markdown",
   "id": "2d2b3429-e152-4ffb-a09d-2945ab3582bc",
   "metadata": {},
   "source": [
    "### BONUS. Visualizing Frames ###\n",
    "Below we have included some helpful functions that will help you visualize the frames that exhibit tailgating behavior. "
   ]
  },
  {
   "cell_type": "markdown",
   "id": "74e0ee86-e27c-48c5-9274-de08cd3aa6fe",
   "metadata": {},
   "source": [
    "**Instructions**: <br>\n",
    "B.1. Execute the cell to extract tailgating frames. <br>\n",
    "B.2. Execute the cell to display randomly selected tailgating frames. <br>"
   ]
  },
  {
   "cell_type": "code",
   "execution_count": null,
   "id": "5967bf7f-4332-4965-b713-c424e62d0dbb",
   "metadata": {},
   "outputs": [],
   "source": [
    "# B.1\n",
    "# DO NOT CHANGE THIS CELL\n",
    "import cv2\n",
    "\n",
    "!mkdir output_images\n",
    "!rm -r output_images/*\n",
    "input_video=cv2.VideoCapture('output_converted.mp4')\n",
    "retVal, im=input_video.read()\n",
    "frameCount=0\n",
    "while retVal:\n",
    "    if frameCount in df[df['inference']==1].index:\n",
    "        cv2.imwrite(\"output_images/frame_%d.jpg\" % frameCount, im)     # save frame as JPEG file      \n",
    "    retVal, im=input_video.read()\n",
    "    print(f'Read a new frame: {frameCount}', end='\\r')\n",
    "    frameCount+=1\n",
    "input_video.release()"
   ]
  },
  {
   "cell_type": "code",
   "execution_count": null,
   "id": "c3a87a09-d228-4c79-b831-868ebeb58a7f",
   "metadata": {},
   "outputs": [],
   "source": [
    "# B.2\n",
    "# DO NOT CHANGE THIS CELL\n",
    "from PIL import Image, ImageFont, ImageDraw, ImageEnhance\n",
    "from matplotlib.pyplot import imshow\n",
    "import numpy as np\n",
    "\n",
    "def plot_random_samples(frames):\n",
    "    sample_frames = np.random.choice(frames,size=8)\n",
    "    fig=plt.figure(figsize=(30, 8))\n",
    "    columns = 4\n",
    "    rows = 2\n",
    "    i = 1 \n",
    "    for frame_num in sample_frames:\n",
    "        # im = Image.open('{}/images/{}/{}.jpg'.format(config[\"Base_Dest_Folder\"], config[\"Test_Video_ID\"], box[\"frame_no\"]))\n",
    "        im = Image.open(f'output_images/frame_{frame_num}.jpg')\n",
    "        fig.add_subplot(rows, columns, i)\n",
    "        i += 1\n",
    "        plt.imshow(np.asarray(im))\n",
    "    plt.show()\n",
    "    \n",
    "plot_random_samples(df[df['inference']==1].index)"
   ]
  },
  {
   "cell_type": "markdown",
   "id": "b6b7f52a-c910-4b48-89ee-b241320f0697",
   "metadata": {},
   "source": [
    "<a href=\"https://www.nvidia.com/dli\"><img src=\"images/DLI_Header.png\" alt=\"Header\" style=\"width: 400px;\"/></a>"
   ]
  }
 ],
 "metadata": {
  "kernelspec": {
   "display_name": "Python 3",
   "language": "python",
   "name": "python3"
  },
  "language_info": {
   "codemirror_mode": {
    "name": "ipython",
    "version": 3
   },
   "file_extension": ".py",
   "mimetype": "text/x-python",
   "name": "python",
   "nbconvert_exporter": "python",
   "pygments_lexer": "ipython3",
   "version": "3.6.9"
  }
 },
 "nbformat": 4,
 "nbformat_minor": 5
}
